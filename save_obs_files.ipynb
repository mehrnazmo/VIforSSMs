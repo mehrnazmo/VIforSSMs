{
 "cells": [
  {
   "cell_type": "code",
   "execution_count": 1,
   "metadata": {},
   "outputs": [],
   "source": [
    "import torch\n",
    "import numpy as np\n",
    "import os\n",
    "from tqdm import tqdm"
   ]
  },
  {
   "cell_type": "code",
   "execution_count": 2,
   "metadata": {},
   "outputs": [
    {
     "data": {
      "text/plain": [
       "(torch.Size([1024, 4]),\n",
       " torch.Size([1024, 151, 2]),\n",
       " torch.Size([1024, 151, 2]),\n",
       " torch.Size([1024, 151]))"
      ]
     },
     "execution_count": 2,
     "metadata": {},
     "output_type": "execute_result"
    }
   ],
   "source": [
    "device = 'cuda' if torch.cuda.is_available() else 'cpu'\n",
    "seed = 47\n",
    "torch.manual_seed(seed)\n",
    "np.random.seed(seed)\n",
    "# data_file = '{}/exp01_dense_test.pt'.format(load_dir)\n",
    "load_dir = './dat/scratch'\n",
    "data_file = '{}/exp02_sparse_test.pt'.format(load_dir)\n",
    "theta, x, y, y_idx = torch.load(data_file, map_location=torch.device('cpu'))\n",
    "y_dict = {'theta': theta,\n",
    "          'y': y,\n",
    "          'y_idx': y_idx}\n",
    "batch_size = theta.shape[0]\n",
    "theta.shape, x.shape, y.shape, y_idx.shape"
   ]
  },
  {
   "cell_type": "code",
   "execution_count": 3,
   "metadata": {},
   "outputs": [
    {
     "name": "stderr",
     "output_type": "stream",
     "text": [
      " 31%|███       | 315/1024 [00:00<00:00, 3143.81it/s]"
     ]
    },
    {
     "name": "stdout",
     "output_type": "stream",
     "text": [
      "num_batch: 1024\n",
      "N: 154624\n",
      "batch_size: 151\n"
     ]
    },
    {
     "name": "stderr",
     "output_type": "stream",
     "text": [
      "100%|██████████| 1024/1024 [00:00<00:00, 3457.24it/s]\n"
     ]
    }
   ],
   "source": [
    "def save_obs_files(y, y_idx, out_dir='.', mode='sparse_test'):\n",
    "    T = 30\n",
    "    dt = 0.2\n",
    "    batch_size = int((T/dt) + 1) #151\n",
    "    num_batch = y_idx.shape[0] #1024\n",
    "    N = num_batch * batch_size\n",
    "    print('num_batch:', num_batch)\n",
    "    print('N:', N)\n",
    "    print('batch_size:', batch_size)\n",
    "\n",
    "    data_all = np.zeros((2,N))\n",
    "    time_till_all = np.zeros((2,N))\n",
    "    obs_bins_all = np.ones((2,N))\n",
    "\n",
    "    for i in tqdm(range(num_batch)):\n",
    "        obs_bins = np.ones((2, batch_size))\n",
    "        time_till = np.zeros((2, batch_size)) - 1\n",
    "        data = y.detach().cpu().numpy()[i,:].T\n",
    "        obs_bins[data==0] = 0\n",
    "        obs_locs = np.where(obs_bins[0]==1)[0]\n",
    "        data[obs_bins==0] = -1\n",
    "        for j in range(batch_size):\n",
    "            next_locs = obs_locs[obs_locs>j]\n",
    "            if len(next_locs) > 0:\n",
    "                time_till[:,j] = next_locs[0] - j\n",
    "            else:\n",
    "                time_till[:,j] = 0 ## setting 0 for no more observations\n",
    "        time_till *= dt\n",
    "        data_all[:,i*batch_size:(i+1)*batch_size] = data\n",
    "        time_till_all[:,i*batch_size:(i+1)*batch_size] = time_till\n",
    "        obs_bins_all[:,i*batch_size:(i+1)*batch_size] = obs_bins\n",
    "        \n",
    "    np.savetxt(os.path.join(out_dir, f'LV_obs_partial_{mode}.txt'), data_all.astype(np.float32))\n",
    "    np.savetxt(os.path.join(out_dir, f'LV_obs_binary_{mode}.txt'), obs_bins_all.astype(np.float32))\n",
    "    np.savetxt(os.path.join(out_dir, f'LV_time_till_{mode}.txt'), time_till_all.astype(np.float32))\n",
    "\n",
    "save_obs_files(y, y_idx)"
   ]
  },
  {
   "cell_type": "code",
   "execution_count": 6,
   "metadata": {},
   "outputs": [
    {
     "data": {
      "text/plain": [
       "((2, 154624), (2, 154624), (2, 154624))"
      ]
     },
     "execution_count": 6,
     "metadata": {},
     "output_type": "execute_result"
    }
   ],
   "source": [
    "# Check files\n",
    "data = np.loadtxt('LV_obs_partial_theta_test.txt')\n",
    "obs_bins = np.loadtxt('LV_obs_binary_theta_test.txt')\n",
    "time_till = np.loadtxt('LV_time_till_theta_test.txt')\n",
    "data.shape, obs_bins.shape, time_till.shape"
   ]
  },
  {
   "cell_type": "code",
   "execution_count": null,
   "metadata": {},
   "outputs": [],
   "source": []
  }
 ],
 "metadata": {
  "kernelspec": {
   "display_name": "h5_composer",
   "language": "python",
   "name": "python3"
  },
  "language_info": {
   "codemirror_mode": {
    "name": "ipython",
    "version": 3
   },
   "file_extension": ".py",
   "mimetype": "text/x-python",
   "name": "python",
   "nbconvert_exporter": "python",
   "pygments_lexer": "ipython3",
   "version": "3.8.18"
  }
 },
 "nbformat": 4,
 "nbformat_minor": 2
}
